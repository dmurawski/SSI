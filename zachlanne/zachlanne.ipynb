{
 "cells": [
  {
   "cell_type": "code",
   "execution_count": 6,
   "metadata": {},
   "outputs": [
    {
     "name": "stdout",
     "output_type": "stream",
     "text": [
      "Wynik miary podobieństwa obustronnego z odległością euklidesową: 10.0\n"
     ]
    }
   ],
   "source": [
    "import math\n",
    "\n",
    "def odleglosc_miedzy_punktami_euklides(punkt_a, punkt_b):\n",
    "    return math.sqrt((punkt_a[0] - punkt_b[0])**2 + (punkt_a[1] - punkt_b[1])**2)\n",
    "\n",
    "def miara_niepodobienstwa_euklides(bitmapa_a, bitmapa_b):\n",
    "    miara = 0\n",
    "    for (pay, pax) in bitmapa_a:\n",
    "        odl_min = float('inf')\n",
    "        for (pby, pbx) in bitmapa_b:\n",
    "            odl_akt = odleglosc_miedzy_punktami_euklides((pay, pax), (pby, pbx))\n",
    "            odl_min = min(odl_min, odl_akt)\n",
    "        miara += odl_min\n",
    "    return miara\n",
    "\n",
    "def miara_podobienstwa_obustronnego_euklides(bitmapa_a, bitmapa_b):\n",
    "    niepodobienstwo_ab = miara_niepodobienstwa_euklides(bitmapa_a, bitmapa_b)\n",
    "    niepodobienstwo_ba = miara_niepodobienstwa_euklides(bitmapa_b, bitmapa_a)\n",
    "    return niepodobienstwo_ab + niepodobienstwo_ba\n",
    "\n",
    "def macierz_do_lista_punktow(macierz):\n",
    "    lista_punktow = []\n",
    "    for i in range(len(macierz)):\n",
    "        for j in range(len(macierz[i])):\n",
    "            if macierz[i][j] == 1:\n",
    "                lista_punktow.append((i, j))\n",
    "    return lista_punktow\n",
    "\n",
    "# Twoje macierze obrazów\n",
    "macierz_a = [\n",
    "    [0, 1, 0, 0],\n",
    "    [0, 1, 0, 0],\n",
    "    [0, 1, 0, 0],\n",
    "    [0, 1, 0, 0],\n",
    "    [0, 1, 0, 0]\n",
    "]\n",
    "\n",
    "macierz_b = [\n",
    "    [1, 0, 0, 0],\n",
    "    [1, 0, 0, 0],\n",
    "    [1, 0, 0, 0],\n",
    "    [1, 0, 0, 0],\n",
    "    [1, 0, 0, 0]\n",
    "]\n",
    "\n",
    "# Konwersja macierzy na listy punktów\n",
    "bitmapa_a = macierz_do_lista_punktow(macierz_a)\n",
    "bitmapa_b = macierz_do_lista_punktow(macierz_b)\n",
    "\n",
    "# Obliczenie miary podobieństwa obustronnego z odległością euklidesową\n",
    "wynik = miara_podobienstwa_obustronnego_euklides(bitmapa_a, bitmapa_b)\n",
    "print(\"Wynik miary podobieństwa obustronnego z odległością euklidesową:\", wynik)\n"
   ]
  }
 ],
 "metadata": {
  "kernelspec": {
   "display_name": "Python 3.10.2 64-bit",
   "language": "python",
   "name": "python3"
  },
  "language_info": {
   "codemirror_mode": {
    "name": "ipython",
    "version": 3
   },
   "file_extension": ".py",
   "mimetype": "text/x-python",
   "name": "python",
   "nbconvert_exporter": "python",
   "pygments_lexer": "ipython3",
   "version": "3.10.2"
  },
  "orig_nbformat": 4,
  "vscode": {
   "interpreter": {
    "hash": "ff21c7b130616c7b6bbfeff466e1c1c8768965afdbe762502f19139632db61ec"
   }
  }
 },
 "nbformat": 4,
 "nbformat_minor": 2
}
